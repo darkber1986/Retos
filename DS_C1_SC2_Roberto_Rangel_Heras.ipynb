import pandas as pd

#Funci�n para abrir el archivo y obtener los datos en un DataFrame
def obtenDatos(archivo = 'country_vaccinations.csv'):
    return pd.read_csv(archivo)

#a. Extraer la informaci�n del archivo
countryVaccinations = obtenDatos() #Se manda llamar la funci�n para obtener los datos

#b. Mostrar la estructura y tipos de datos de cada columna para identificar qu� operaciones 
#puedes realizar con cada una de ellas, asegur�ndote que las columnas con fechas sean del tipo datetime64. 
#Se convierte la columna "date" en datetime y se muestra la informaci�n del DataFrame
countryVaccinations["date"] = pd.to_datetime(countryVaccinations["date"])
countryVaccinations.info()

#c. Determinar la cantidad de vacunas aplicadas de cada compa��a 
#(con base en c�mo lo reporta cada pa�s en la columna vaccines, en otras palabras, agrupe por vaccines y realice la sumatoria). 
print("Total de  vacunas aplicadas por compa��a")
print(countryVaccinations['people_vaccinated'].groupby([countryVaccinations['vaccines']]).sum())
#countryVaccinations['total_vaccinations'].groupby([countryVaccinations['vaccines']]).sum()
#countryVaccinations['total_vaccinations'] = countryVaccinations['total_vaccinations'].notna(0)

#d. Obtener la cantidad de vacunas aplicadas en todo el mundo
print("Total de vacunas aplicadas en el mundo")
print(countryVaccinations['people_vaccinated'].sum())

#e. Calcular el promedio de vacunas aplicadas por pa�s
print("Promedio de vacunas aplicadas por pa�s")
print(countryVaccinations['people_vaccinated'].groupby([countryVaccinations['country']]).mean())

#f. Determinar la cantidad de vacunas aplicadas el d�a 29/01/21 en todo el mundo
date290121 = countryVaccinations[(countryVaccinations['date']=='2021-01-29')]
print("Total de vacunas aplicadas el d�a 29/01/2021")
print(date290121['people_vaccinated'].sum())

#g. Crear un dataframe nuevo denominado conDiferencias que contenga los datos originales y una columna derivada (diferencias) 
# con las diferencias de aplicaci�n entre las columnas daily_vaccionations y daily_vaccionations_raw
#Se hace una copia de los datos originales
conDiferencias = countryVaccinations.copy()
#Se ponen en 0 los NA de las columnas daily_vaccinations y daily_vaccinations_raw, para poder hacer la diferencia correctamente
conDiferencias["daily_vaccinations"] = conDiferencias["daily_vaccinations"].fillna(0)
conDiferencias["daily_vaccinations_raw"] = conDiferencias["daily_vaccinations_raw"].fillna(0)
#Se obtiene la columna derivada
conDiferencias["diferencias"] = conDiferencias["daily_vaccinations"]-conDiferencias["daily_vaccinations_raw"]

#h. Obtener el periodo de tiempo entre el registro con fecha m�s reciente y el registro con fecha m�s antigua
print("Peridodo de tiempo entre la fecha m�s reciente y la fecha m�s antigua")
print(countryVaccinations["date"].max() - countryVaccinations["date"].min())

#i. Crear un dataframe nuevo denominado conCantidad que contenga los datos originales y una columna derivada (canVac) 
# con la cantidad de vacunas utilizadas cada d�a (usar la columna vaccines y separar por el car�cter , ). 
#Se hace una copia de los datos originales
conCantidad = countryVaccinations.copy()
conCantidad["canVac"] = conCantidad["vaccines"].str.split(",").str.len()

#j. Generar un dataframe denominado antes20 con todos los registros que se hayan realizado 
# antes del 20 de diciembre de 2020. 
antes20 = countryVaccinations.copy()
antes20 = antes20[(antes20['date'] < '2020-12-20')]

#k. Obtener un dataframe denominado pfizer con todos los registros donde se haya utilizado la vacuna Pfizer
pfizer = countryVaccinations.copy()
pfizer = pfizer[pfizer["vaccines"].str.contains("pfizer", case=False)]
#l. Almacenar los dataframes generados (conDiferencias, conCantidad, antes20 y pfizer) en un archivo 
# de Excel denominado resultadosReto.xlsx, donde cada dataframe ocupe una hoja diferente

with pd.ExcelWriter("DS_C2_SC2_ROBERTO_RANGEL_HERAS.xlsx") as writer:
    conDiferencias.to_excel(writer, sheet_name="Con diferencias")
    conCantidad.to_excel(writer, sheet_name="Con cantidad")
    antes20.to_excel(writer, sheet_name="Antes del 20")
    pfizer.to_excel(writer, sheet_name="Pfizer")